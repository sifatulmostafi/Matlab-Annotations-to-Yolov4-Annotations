{
 "cells": [
  {
   "cell_type": "code",
   "execution_count": 6,
   "metadata": {},
   "outputs": [],
   "source": [
    "namesfileName = 'obj.names'\n",
    "namesfile = open(namesfileName, \"w\")\n",
    "\n",
    "classFile = open(\"classes.txt\", \"r\")\n",
    "for line_ in classFile:\n",
    "  line_ = line_.replace(\" \", \"_\")\n",
    "  namesfile.write(line_)\n",
    "  #print(line_)\n",
    "\n",
    "namesfile.close()\n",
    "classFile.close()"
   ]
  },
  {
   "cell_type": "code",
   "execution_count": null,
   "metadata": {},
   "outputs": [],
   "source": []
  }
 ],
 "metadata": {
  "kernelspec": {
   "display_name": "Python 3",
   "language": "python",
   "name": "python3"
  },
  "language_info": {
   "codemirror_mode": {
    "name": "ipython",
    "version": 3
   },
   "file_extension": ".py",
   "mimetype": "text/x-python",
   "name": "python",
   "nbconvert_exporter": "python",
   "pygments_lexer": "ipython3",
   "version": "3.8.3"
  }
 },
 "nbformat": 4,
 "nbformat_minor": 4
}
