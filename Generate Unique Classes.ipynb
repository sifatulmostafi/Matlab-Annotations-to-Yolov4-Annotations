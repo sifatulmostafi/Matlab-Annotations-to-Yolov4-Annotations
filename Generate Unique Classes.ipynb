{
 "cells": [
  {
   "cell_type": "code",
   "execution_count": 23,
   "metadata": {
    "scrolled": true
   },
   "outputs": [
    {
     "name": "stdout",
     "output_type": "stream",
     "text": [
      "-1\n",
      "0 AM 0 0\n",
      "1 Acura 1 6\n",
      "2 Aston 7 10\n",
      "3 Audi 11 24\n",
      "4 BMW 25 37\n",
      "5 Bentley 38 43\n",
      "6 Bugatti 44 45\n",
      "7 Buick 46 49\n",
      "8 Cadillac 50 52\n",
      "9 Chevrolet 53 74\n",
      "10 Chrysler 75 80\n",
      "11 Daewoo 81 81\n",
      "12 Dodge 82 96\n",
      "13 Eagle 97 97\n",
      "14 FIAT 98 99\n",
      "15 Ferrari 100 103\n",
      "16 Fisker 104 104\n",
      "17 Ford 105 116\n",
      "18 GMC 117 121\n",
      "19 Geo 122 122\n",
      "20 HUMMER 123 124\n",
      "21 Honda 125 128\n",
      "22 Hyundai 129 139\n",
      "23 Infiniti 140 141\n",
      "24 Isuzu 142 142\n",
      "25 Jaguar 143 143\n",
      "26 Jeep 144 148\n",
      "27 Lamborghini 149 152\n",
      "28 Land 153 154\n",
      "29 Lincoln 155 155\n",
      "30 MINI 156 156\n",
      "31 Maybach 157 157\n",
      "32 Mazda 158 158\n",
      "33 McLaren 159 159\n",
      "34 Mercedes-Benz 160 165\n",
      "35 Mitsubishi 166 166\n",
      "36 Nissan 167 170\n",
      "37 Plymouth 171 171\n",
      "38 Porsche 172 172\n",
      "39 Ram 173 173\n",
      "40 Rolls-Royce 174 176\n",
      "41 Scion 177 177\n",
      "42 Spyker 178 179\n",
      "43 Suzuki 180 183\n",
      "44 Tesla 184 184\n",
      "45 Toyota 185 188\n",
      "46 Volkswagen 189 191\n",
      "47 Volvo 192 194\n",
      "48 smart 195 "
     ]
    }
   ],
   "source": [
    "from scipy.io import loadmat\n",
    "import numpy as np\n",
    "\n",
    "textfileLocation = 'classes.txt'\n",
    "file = open(textfileLocation, \"w\")\n",
    "\n",
    "i = 0\n",
    "catID = 0\n",
    "temp = ''\n",
    "\n",
    "annots = loadmat('devkit/cars_meta.mat')\n",
    "for x in annots['class_names'][0]:\n",
    "    \n",
    "    str_ = x[0].split(' ')[0]\n",
    "    \n",
    "    if str_ != temp:\n",
    "        label = str_ + '\\n'\n",
    "        file.write(label)\n",
    "        print(i-1)\n",
    "        print(catID, str_, i, end =\" \")\n",
    "        temp = str_\n",
    "        catID = catID + 1\n",
    "    \n",
    "    i = i+1\n",
    "\n",
    "file.close()"
   ]
  },
  {
   "cell_type": "code",
   "execution_count": null,
   "metadata": {},
   "outputs": [],
   "source": []
  },
  {
   "cell_type": "code",
   "execution_count": null,
   "metadata": {},
   "outputs": [],
   "source": []
  }
 ],
 "metadata": {
  "kernelspec": {
   "display_name": "Python 3",
   "language": "python",
   "name": "python3"
  },
  "language_info": {
   "codemirror_mode": {
    "name": "ipython",
    "version": 3
   },
   "file_extension": ".py",
   "mimetype": "text/x-python",
   "name": "python",
   "nbconvert_exporter": "python",
   "pygments_lexer": "ipython3",
   "version": "3.8.3"
  }
 },
 "nbformat": 4,
 "nbformat_minor": 4
}
